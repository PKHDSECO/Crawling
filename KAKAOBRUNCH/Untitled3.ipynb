{
 "cells": [
  {
   "cell_type": "markdown",
   "id": "41069eb5",
   "metadata": {},
   "source": [
    "# Data Science Final Project Notebook"
   ]
  },
  {
   "cell_type": "markdown",
   "id": "f0621b70",
   "metadata": {},
   "source": [
    "## Introduction\n",
    "This notebook is created as part of the final project for the Data Science course. It will cover various exercises to demonstrate proficiency in markdown and code cells, including the listing of data science languages, libraries, tools, arithmetic expressions, and code functionalities."
   ]
  },
  {
   "cell_type": "markdown",
   "id": "7a870a4e",
   "metadata": {},
   "source": [
    "## Data Science Languages\n",
    "Some of the popular languages that data scientists use are:\n",
    "- Python\n",
    "- R\n",
    "- SQL\n",
    "- Julia\n",
    "- Scala"
   ]
  },
  {
   "cell_type": "markdown",
   "id": "abe11bdd",
   "metadata": {},
   "source": [
    "## Data Science Libraries\n",
    "Some of the commonly used libraries in data science include:\n",
    "- Pandas\n",
    "- NumPy\n",
    "- Matplotlib\n",
    "- Scikit-learn\n",
    "- TensorFlow\n",
    "- Keras"
   ]
  },
  {
   "cell_type": "markdown",
   "id": "b7bf2190",
   "metadata": {},
   "source": [
    "## Data Science Tools\n",
    "| Tool          | Description                                    |\n",
    "|---------------|------------------------------------------------|\n",
    "| Jupyter       | An open-source web application for creating and sharing documents with live code, equations, visualizations, and narrative text. |\n",
    "| RStudio       | An integrated development environment for R.   |\n",
    "| Apache Hadoop | A framework that allows for the distributed processing of large data sets across clusters of computers. |\n",
    "| Tableau       | A data visualization tool.                     |\n",
    "| Apache Spark  | An open-source unified analytics engine for large-scale data processing. |"
   ]
  },
  {
   "cell_type": "markdown",
   "id": "6cd8d0bb",
   "metadata": {},
   "source": [
    "## Arithmetic Expression Examples\n",
    "In this section, we will demonstrate simple arithmetic operations such as addition and multiplication."
   ]
  },
  {
   "cell_type": "markdown",
   "id": "d4433f6f",
   "metadata": {},
   "source": [
    "# Multiplying and adding numbers\n",
    "a = 5\n",
    "b = 4\n",
    "result_multiply = a * b\n",
    "result_add = a + b\n",
    "result_multiply, result_add"
   ]
  },
  {
   "cell_type": "markdown",
   "id": "aa8b05e0",
   "metadata": {},
   "source": [
    "# Converting minutes to hours\n",
    "minutes = 120\n",
    "hours = minutes / 60\n",
    "hours"
   ]
  },
  {
   "cell_type": "markdown",
   "id": "ccbffa77",
   "metadata": {},
   "source": [
    "## Objectives\n",
    "- Understand the basics of markdown and code cells in Jupyter notebooks.\n",
    "- Learn how to list and describe popular data science languages and libraries.\n",
    "- Demonstrate arithmetic operations using Python.\n",
    "- Convert units using Python code.\n",
    "- Share the completed notebook through GitHub."
   ]
  },
  {
   "cell_type": "markdown",
   "id": "535036b9",
   "metadata": {},
   "source": [
    "## Author\n",
    "Park"
   ]
  },
  {
   "cell_type": "markdown",
   "id": "bc78ef08",
   "metadata": {},
   "source": [
    "## GitHub Link\n",
    "The notebook can be accessed at [GitHub Repository Link](https://github.com/my_username/repository-name)"
   ]
  },
  {
   "cell_type": "code",
   "execution_count": null,
   "id": "907ced4c",
   "metadata": {},
   "outputs": [],
   "source": []
  }
 ],
 "metadata": {
  "kernelspec": {
   "display_name": "Python 3 (ipykernel)",
   "language": "python",
   "name": "python3"
  },
  "language_info": {
   "codemirror_mode": {
    "name": "ipython",
    "version": 3
   },
   "file_extension": ".py",
   "mimetype": "text/x-python",
   "name": "python",
   "nbconvert_exporter": "python",
   "pygments_lexer": "ipython3",
   "version": "3.9.13"
  }
 },
 "nbformat": 4,
 "nbformat_minor": 5
}
