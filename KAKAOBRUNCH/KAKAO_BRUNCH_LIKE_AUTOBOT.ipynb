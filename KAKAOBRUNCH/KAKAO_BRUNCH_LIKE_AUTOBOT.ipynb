{
 "cells": [
  {
   "cell_type": "code",
   "execution_count": 4,
   "id": "aefe7a90",
   "metadata": {},
   "outputs": [],
   "source": [
    "from selenium import webdriver\n",
    "from selenium.webdriver.common.keys import Keys\n",
    "from selenium.webdriver.common.by import By\n",
    "import time"
   ]
  },
  {
   "cell_type": "code",
   "execution_count": 5,
   "id": "f98dbe3b",
   "metadata": {},
   "outputs": [],
   "source": [
    "username = \"YOUR_ID\"\n",
    "password = \"YOUR_PW\"\n",
    "time_sleep_button = 2 # 버튼을 누른 후 대기 시간 (초)\n",
    "refresh_interval = 600 # 새로고침 간격 (초)\n",
    "repeat_times = 10 # 전체 프로세스 반복 횟수"
   ]
  },
  {
   "cell_type": "code",
   "execution_count": null,
   "id": "c55614ff",
   "metadata": {},
   "outputs": [],
   "source": [
    "driver = webdriver.Chrome()\n",
    "\n",
    "driver.get(\"https://brunch.co.kr/\")\n",
    "\n",
    "driver.find_element(By.CSS_SELECTOR, \"#topStartBrunchButton\").click()\n",
    "time.sleep(2)\n",
    "\n",
    "driver.find_element(By.CSS_SELECTOR, \"#kakaoLogin > span.txt_item\").click()\n",
    "time.sleep(2)\n",
    "\n",
    "# 로그인 정보 입력\n",
    "driver.find_element(By.CSS_SELECTOR, \"#loginId--1\").send_keys(username)\n",
    "driver.find_element(By.CSS_SELECTOR, \"#password--2\").send_keys(password)\n",
    "\n",
    "# 로그인 버튼 클릭\n",
    "driver.find_element(By.CSS_SELECTOR, \"#mainContent > div > div > form > div.confirm_btn > button.btn_g.highlight.submit\").click()\n",
    "time.sleep(time_sleep_button)\n",
    "\n",
    "# 추가적인 버튼 클릭\n",
    "driver.find_element(By.CSS_SELECTOR, \"#btnServiceMenu\").click()\n",
    "time.sleep(1)\n",
    "\n",
    "driver.find_element(By.CSS_SELECTOR, \"#wrapSideMenu > main > div.wrap_side_service_menu.logout > ul > li:nth-child(6) > a\").click()\n",
    "time.sleep(time_sleep_button)\n",
    "\n",
    "for _ in range(repeat_times):\n",
    "    for i in range(1, 20):\n",
    "        driver.find_element(By.CSS_SELECTOR, f\"#mArticle > ul > li:nth-child({i}) > div > a > span\").click()\n",
    "        time.sleep(3)\n",
    "        try:\n",
    "            # 클래스 이름을 사용하여 요소 찾기\n",
    "            driver.find_element(By.CLASS_NAME,\"ico_likeit_unlike\").click()\n",
    "            # 요소가 존재하면 아무것도 하지 않음\n",
    "            pass\n",
    "        except :\n",
    "            driver.find_element(By.CLASS_NAME, \"ico_likeit_like\").click()\n",
    "            time.sleep(3)\n",
    "        driver.back()\n",
    "        time.sleep(3)\n",
    "\n",
    "    # 새로고침 및 대기\n",
    "    time.sleep(refresh_interval)\n",
    "    driver.find_element(By.CSS_SELECTOR, \"#btnServiceMenu\").click()\n",
    "    time.sleep(3)\n",
    "    driver.find_element(By.CSS_SELECTOR, \"#wrapSideMenu > main > div.wrap_side_service_menu.logout > ul > li:nth-child(6) > a\").click()\n",
    "    time.sleep(5)\n",
    "\n",
    "\n",
    "driver.quit()"
   ]
  },
  {
   "cell_type": "code",
   "execution_count": null,
   "id": "c7b91579",
   "metadata": {},
   "outputs": [],
   "source": []
  }
 ],
 "metadata": {
  "kernelspec": {
   "display_name": "Python 3 (ipykernel)",
   "language": "python",
   "name": "python3"
  },
  "language_info": {
   "codemirror_mode": {
    "name": "ipython",
    "version": 3
   },
   "file_extension": ".py",
   "mimetype": "text/x-python",
   "name": "python",
   "nbconvert_exporter": "python",
   "pygments_lexer": "ipython3",
   "version": "3.9.13"
  }
 },
 "nbformat": 4,
 "nbformat_minor": 5
}
